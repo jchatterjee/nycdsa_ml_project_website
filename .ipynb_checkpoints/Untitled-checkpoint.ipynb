{
 "cells": [
  {
   "cell_type": "code",
   "execution_count": null,
   "id": "82094a6b-4906-4dc9-8f73-c4404a4bacd5",
   "metadata": {},
   "outputs": [],
   "source": [
    "# From: https://stackoverflow.com/questions/24906126/how-to-unpack-pkl-file\n",
    "import pickle\n",
    "\n",
    "\n",
    "with open('serialized.pkl', 'rb') as f:\n",
    "    data = pickle.load(f)"
   ]
  }
 ],
 "metadata": {
  "kernelspec": {
   "display_name": "Python 3 (ipykernel)",
   "language": "python",
   "name": "python3"
  },
  "language_info": {
   "codemirror_mode": {
    "name": "ipython",
    "version": 3
   },
   "file_extension": ".py",
   "mimetype": "text/x-python",
   "name": "python",
   "nbconvert_exporter": "python",
   "pygments_lexer": "ipython3",
   "version": "3.9.7"
  }
 },
 "nbformat": 4,
 "nbformat_minor": 5
}
